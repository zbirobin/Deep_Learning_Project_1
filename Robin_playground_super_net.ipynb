{
 "cells": [
  {
   "cell_type": "code",
   "execution_count": 1,
   "metadata": {},
   "outputs": [],
   "source": [
    "import torch\n",
    "import math\n",
    "import numpy as np\n",
    "from torch import optim\n",
    "from torch import Tensor\n",
    "from torch import nn\n",
    "from torch.nn import functional as F\n",
    "\n",
    "import dlc_practical_prologue as prologue"
   ]
  },
  {
   "cell_type": "code",
   "execution_count": 2,
   "metadata": {},
   "outputs": [
    {
     "name": "stdout",
     "output_type": "stream",
     "text": [
      "torch.Size([1000, 2, 14, 14])\n",
      "torch.Size([1000])\n",
      "torch.Size([1000, 2])\n"
     ]
    },
    {
     "data": {
      "text/plain": [
       "tensor([[9, 3],\n",
       "        [5, 4],\n",
       "        [7, 4],\n",
       "        [9, 6],\n",
       "        [8, 8]])"
      ]
     },
     "execution_count": 2,
     "metadata": {},
     "output_type": "execute_result"
    }
   ],
   "source": [
    "N = 1000 # Number of data samples in training and test set\n",
    "\n",
    "train_input, train_target, train_classes, \\\n",
    "    test_input, test_target, test_classes = prologue.generate_pair_sets(N)\n",
    "\n",
    "print(train_input.shape)\n",
    "print(train_target.shape)\n",
    "print(train_classes.shape)\n",
    "\n",
    "train_classes[:5]"
   ]
  },
  {
   "cell_type": "code",
   "execution_count": 3,
   "metadata": {},
   "outputs": [],
   "source": [
    "def normalize(input, mean, std):\n",
    "    input.sub_(mean).div_(std)\n",
    "    \n",
    "def process_data(img_input, classes, one_hot_classes=False):\n",
    "    \n",
    "    n_img = img_input.size(0) \n",
    "    img_input_1 = img_input[:,0,:,:].reshape(n_img, 1, 14, 14)\n",
    "    img_input_2 = img_input[:,1,:,:].reshape(n_img, 1, 14, 14)\n",
    "    \n",
    "    img_classes_1 = prologue.convert_to_one_hot_labels(img_input_1, classes[:,0]) if one_hot_classes else classes[:,0]\n",
    "    img_classes_2 = prologue.convert_to_one_hot_labels(img_input_2, classes[:,1]) if one_hot_classes else classes[:,1]\n",
    "    \n",
    "    img_classes_1.reshape(-1,1)\n",
    "    img_classes_2.reshape(-1,1)\n",
    "    \n",
    "    return img_input_1, img_input_2, img_classes_1, img_classes_2"
   ]
  },
  {
   "cell_type": "code",
   "execution_count": 4,
   "metadata": {},
   "outputs": [],
   "source": [
    "mean = train_input.mean(dim=(0,2,3), keepdim=True)\n",
    "std = train_input.std(dim=(0,2,3), keepdim=True)\n",
    "\n",
    "normalize(train_input, mean, std)\n",
    "normalize(test_input, mean, std)\n",
    "\n",
    "train_input_1, train_input_2, train_classes_1, train_classes_2 = process_data(train_input, train_classes)\n",
    "test_input_1, test_input_2, test_classes_1, test_classes_2 = process_data(test_input, test_classes)"
   ]
  },
  {
   "cell_type": "code",
   "execution_count": 31,
   "metadata": {},
   "outputs": [],
   "source": [
    "class DigitNet(nn.Module):\n",
    "    def __init__(self, nb_hidden):\n",
    "        super(DigitNet, self).__init__()\n",
    "        self.conv1 = nn.Conv2d(1, 32, kernel_size=3)\n",
    "        self.conv2 = nn.Conv2d(32, 64, kernel_size=3)\n",
    "        self.fc1 = nn.Linear(256, nb_hidden)\n",
    "        self.fc2 = nn.Linear(nb_hidden, 10)\n",
    "        \n",
    "    def forward(self, x):\n",
    "        x = F.relu(F.max_pool2d(self.conv1(x), kernel_size=2))\n",
    "        x = F.relu(F.max_pool2d(self.conv2(x), kernel_size=2))\n",
    "        x = F.relu(self.fc1(x.view(-1, 256)))\n",
    "        x = self.fc2(x)\n",
    "        return x"
   ]
  },
  {
   "cell_type": "code",
   "execution_count": 32,
   "metadata": {},
   "outputs": [],
   "source": [
    "class CompNet(torch.nn.Module):\n",
    "    def __init__(self, digitNet):\n",
    "        super(CompNet, self).__init__()\n",
    "        self.digitNet = digitNet\n",
    "        self.fc1 = nn.Linear(20, 50)\n",
    "        self.fc2 = nn.Linear(50, 50)\n",
    "        self.fc3 = nn.Linear(50, 1)\n",
    "    def forward(self, x1, x2):\n",
    "        x1 = self.digitNet.forward(x1)\n",
    "        x2 = self.digitNet.forward(x2)\n",
    "        x = torch.cat((x1, x2), 1)\n",
    "        x = F.relu(self.fc1(x))\n",
    "        x = F.relu(self.fc2(x))\n",
    "        x = F.relu(self.fc3(x))\n",
    "        x = torch.sigmoid(x)\n",
    "        return x"
   ]
  },
  {
   "cell_type": "code",
   "execution_count": 36,
   "metadata": {},
   "outputs": [],
   "source": [
    "def train_model(model_digit, model_comp, \n",
    "                train_input_1, train_input_2, train_classes_1, train_classes_2, train_target, \n",
    "                criterion_digit=nn.CrossEntropyLoss(), criterion_comp=nn.BCELoss(), \n",
    "                mini_batch_size=25,nb_epochs=25, lr=1e-1):\n",
    "    \n",
    "    optimizer_digit = torch.optim.SGD(model_digit.parameters(), lr=lr)\n",
    "    optimizer_comp = torch.optim.SGD(model_comp.parameters(), lr=lr)\n",
    "    \n",
    "    for e in range(nb_epochs):\n",
    "        if e % 5 == 0:\n",
    "            print(\"Epochs {}\".format(e))\n",
    "        for b in range(0, train_input.size(0), mini_batch_size):\n",
    "            \n",
    "            # digit classification \n",
    "            output_img_1 = model_digit(train_input_1.narrow(0, b, mini_batch_size))\n",
    "            output_img_2 = model_digit(train_input_2.narrow(0, b, mini_batch_size))\n",
    "            \n",
    "            loss_img_1 = criterion_digit(output_img_1, train_classes_1.narrow(0, b, mini_batch_size))\n",
    "            loss_img_2 = criterion_digit(output_img_2, train_classes_2.narrow(0, b, mini_batch_size))\n",
    "            loss_img = loss_img_1 + loss_img_2\n",
    "            \n",
    "            output_comp = model_comp(train_input_1.narrow(0, b, mini_batch_size), train_input_2.narrow(0, b, mini_batch_size))\n",
    "            batch_target = train_target.narrow(0, b, mini_batch_size).reshape(-1,1).float()\n",
    "            loss_comp = criterion_comp(output_comp, batch_target)\n",
    "            \n",
    "            loss = loss_img + loss_comp\n",
    "            \n",
    "            if b==0:\n",
    "                print(\"loss = {}, loss_img = {}, loss_comp = {}\".format(loss, loss_img, loss_comp))\n",
    "                \n",
    "            model_digit.zero_grad()\n",
    "            model_comp.zero_grad()\n",
    "            loss.backward()\n",
    "            optimizer_digit.step()\n",
    "            optimizer_comp.step()"
   ]
  },
  {
   "cell_type": "code",
   "execution_count": 37,
   "metadata": {},
   "outputs": [
    {
     "name": "stdout",
     "output_type": "stream",
     "text": [
      "152326\n",
      "155977\n",
      "training...\n",
      "Epochs 0\n",
      "loss = 5.3823561668396, loss_img = 4.674652099609375, loss_comp = 0.7077041864395142\n",
      "loss = 3.3239970207214355, loss_img = 2.5687713623046875, loss_comp = 0.7552255988121033\n",
      "loss = 1.729339361190796, loss_img = 1.0051970481872559, loss_comp = 0.7241422533988953\n",
      "loss = 1.319433569908142, loss_img = 0.5124971270561218, loss_comp = 0.8069364428520203\n",
      "loss = 0.8588497638702393, loss_img = 0.2707284092903137, loss_comp = 0.5881213545799255\n",
      "Epochs 5\n",
      "loss = 1.052391767501831, loss_img = 0.39440295100212097, loss_comp = 0.6579887866973877\n",
      "loss = 0.6876159310340881, loss_img = 0.10216952860355377, loss_comp = 0.5854464173316956\n",
      "loss = 0.6645284295082092, loss_img = 0.1400645524263382, loss_comp = 0.5244638919830322\n",
      "loss = 0.6508363485336304, loss_img = 0.1259004771709442, loss_comp = 0.5249359011650085\n",
      "loss = 0.4998537003993988, loss_img = 0.021979253739118576, loss_comp = 0.4778744578361511\n",
      "Epochs 10\n",
      "loss = 0.5202064514160156, loss_img = 0.018262319266796112, loss_comp = 0.5019441246986389\n",
      "loss = 0.543195366859436, loss_img = 0.03290124982595444, loss_comp = 0.5102941393852234\n",
      "loss = 0.5016988515853882, loss_img = 0.013490239158272743, loss_comp = 0.4882086217403412\n",
      "loss = 0.4839004576206207, loss_img = 0.005895326845347881, loss_comp = 0.47800514101982117\n",
      "loss = 0.5317938923835754, loss_img = 0.02182886190712452, loss_comp = 0.5099650025367737\n",
      "Epochs 15\n",
      "loss = 0.6977149844169617, loss_img = 0.10998040437698364, loss_comp = 0.587734580039978\n",
      "loss = 0.6060169339179993, loss_img = 0.13439075648784637, loss_comp = 0.4716261923313141\n",
      "loss = 0.47275134921073914, loss_img = 0.0009440078865736723, loss_comp = 0.4718073308467865\n",
      "loss = 0.4740130603313446, loss_img = 0.0025988847482949495, loss_comp = 0.471414178609848\n",
      "loss = 0.5338478088378906, loss_img = 0.0045664357021451, loss_comp = 0.5292813777923584\n",
      "Epochs 20\n",
      "loss = 0.485212117433548, loss_img = 0.013119676150381565, loss_comp = 0.4720924496650696\n",
      "loss = 0.4500769376754761, loss_img = 0.0037560542114079, loss_comp = 0.44632089138031006\n",
      "loss = 0.45315057039260864, loss_img = 0.00695800082758069, loss_comp = 0.44619256258010864\n",
      "loss = 0.4733036458492279, loss_img = 0.0013752283994108438, loss_comp = 0.4719284176826477\n",
      "loss = 0.504240870475769, loss_img = 0.025771815329790115, loss_comp = 0.4784690737724304\n"
     ]
    }
   ],
   "source": [
    "model_digit = DigitNet(500)\n",
    "model_comp = CompNet(model_digit)\n",
    "\n",
    "print(sum(p.numel() for p in model_digit.parameters() if p.requires_grad))\n",
    "print(sum(p.numel() for p in model_comp.parameters() if p.requires_grad))\n",
    "print(\"training...\")\n",
    "\n",
    "train_model(model_digit=model_digit, model_comp=model_comp,\n",
    "            train_input_1=train_input_1, train_input_2=train_input_2,\n",
    "            train_classes_1=train_classes_1, train_classes_2=train_classes_2, \n",
    "            train_target=train_target)"
   ]
  },
  {
   "cell_type": "code",
   "execution_count": 41,
   "metadata": {},
   "outputs": [],
   "source": [
    "def compute_nb_errors_siamese(model_digit, model_comp,\n",
    "                              data_input_1, data_input_2, data_target, mini_batch_size=25):\n",
    "\n",
    "    nb_data_errors = 0\n",
    "\n",
    "    for b in range(0, data_input_1.size(0), mini_batch_size):\n",
    "        output_img_1 = model_digit(data_input_1.narrow(0, b, mini_batch_size))\n",
    "        output_img_2 = model_digit(data_input_2.narrow(0, b, mini_batch_size))\n",
    "        \n",
    "        output_comp = model_comp(data_input_1.narrow(0, b, mini_batch_size), data_input_2.narrow(0, b, mini_batch_size))\n",
    "        output_comp = torch.round(output_comp)\n",
    "    \n",
    "        for k in range(mini_batch_size):\n",
    "            if data_target[b + k] != output_comp[k]:\n",
    "                nb_data_errors = nb_data_errors + 1\n",
    "\n",
    "    return nb_data_errors"
   ]
  },
  {
   "cell_type": "code",
   "execution_count": 42,
   "metadata": {},
   "outputs": [],
   "source": [
    "def print_error_siamese(model_digit, model_comp, tr_input_1, tr_input_2, tr_target, te_input_1, te_input_2, te_target):\n",
    "    print('train_error {:.02f}% test_error {:.02f}%'.format(\n",
    "                compute_nb_errors_siamese(model_digit, model_comp, tr_input_1, tr_input_2, tr_target) / N * 100,\n",
    "                compute_nb_errors_siamese(model_digit, model_comp, te_input_1, te_input_2, te_target) / N * 100))"
   ]
  },
  {
   "cell_type": "code",
   "execution_count": 43,
   "metadata": {},
   "outputs": [
    {
     "name": "stdout",
     "output_type": "stream",
     "text": [
      "train_error 1.20% test_error 8.00%\n"
     ]
    }
   ],
   "source": [
    "print_error_siamese(model_digit, model_comp, train_input_1, train_input_2, train_target, test_input_1, test_input_2, test_target)"
   ]
  },
  {
   "cell_type": "code",
   "execution_count": null,
   "metadata": {},
   "outputs": [],
   "source": []
  }
 ],
 "metadata": {
  "kernelspec": {
   "display_name": "Python 3",
   "language": "python",
   "name": "python3"
  },
  "language_info": {
   "codemirror_mode": {
    "name": "ipython",
    "version": 3
   },
   "file_extension": ".py",
   "mimetype": "text/x-python",
   "name": "python",
   "nbconvert_exporter": "python",
   "pygments_lexer": "ipython3",
   "version": "3.7.6"
  }
 },
 "nbformat": 4,
 "nbformat_minor": 2
}
