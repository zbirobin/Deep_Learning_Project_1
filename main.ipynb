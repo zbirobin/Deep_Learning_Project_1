{
 "cells": [
  {
   "cell_type": "code",
   "execution_count": 121,
   "metadata": {},
   "outputs": [
    {
     "name": "stdout",
     "output_type": "stream",
     "text": [
      "The autoreload extension is already loaded. To reload it, use:\n",
      "  %reload_ext autoreload\n"
     ]
    }
   ],
   "source": [
    "import torch\n",
    "import math\n",
    "import numpy as np\n",
    "import dlc_practical_prologue as prologue\n",
    "from torch import optim\n",
    "from torch import Tensor\n",
    "from torch import nn\n",
    "from torch.nn import functional as F\n",
    "from helpers import *\n",
    "from NaiveSiamese import NaiveSiamese\n",
    "from EnhancedSiamese import EnhancedSiamese\n",
    "import matplotlib.pyplot as plt\n",
    "\n",
    "%load_ext autoreload\n",
    "%autoreload 2\n"
   ]
  },
  {
   "cell_type": "code",
   "execution_count": 48,
   "metadata": {},
   "outputs": [],
   "source": [
    "N = 1000 # Number of data samples in training and test set\n",
    "\n",
    "# load data from source\n",
    "train_input, train_target, train_classes, \\\n",
    "    test_input, test_target, test_classes = prologue.generate_pair_sets(N)\n",
    "\n",
    "# use 1-hot encoding for targets\n",
    "train_target = encode_to_one_hot(train_target)\n",
    "test_target = encode_to_one_hot(test_target)"
   ]
  },
  {
   "cell_type": "code",
   "execution_count": 61,
   "metadata": {},
   "outputs": [],
   "source": [
    "mean = train_input.mean(dim=(0,2,3), keepdim=True)\n",
    "std = train_input.std(dim=(0,2,3), keepdim=True)\n",
    "\n",
    "# Normalize data by removing mean and subtracting by the std\n",
    "normalize(train_input, mean, std)\n",
    "normalize(test_input, mean, std)\n",
    "\n",
    "# Preprocess the data \n",
    "train_input_1, train_input_2, train_classes_1, train_classes_2 = process_data(train_input, train_classes)\n",
    "test_input_1, test_input_2, test_classes_1, test_classes_2 = process_data(test_input, test_classes)"
   ]
  },
  {
   "cell_type": "code",
   "execution_count": 118,
   "metadata": {},
   "outputs": [],
   "source": [
    "verbose = False\n",
    "\n",
    "nb_rounds = 10\n",
    "\n",
    "# Containers for error rates ( 0 < error < 1 )\n",
    "errors = np.zeros(10)\n",
    "errors_naive = np.zeros(10)\n",
    "\n",
    "# Few tweaking parameters\n",
    "\n",
    "nb_epochs = 25 # Number of epochs\n",
    "lr = 1e-1 # learning rate of the gradient descent algorithm\n",
    "nb_hidden = 500 # Size of the hidden layer \n",
    "\n",
    "\n",
    "for i in range(0,nb_rounds):\n",
    "    \n",
    "    print('Round {}'.format(i))\n",
    "    \n",
    "    # Data shuffling \n",
    "    train_input_1,train_input_2,train_classes_1,train_classes_2,train_target = shuffle_data(train_input_1,train_input_2,train_classes_1,train_classes_2,train_target)\n",
    "    \n",
    "    # Naive siamese train and test\n",
    "    naive_siamese = NaiveSiamese(nb_hidden=nb_hidden) # for weight reinitialization\n",
    "    naive_siamese.train(train_input_1,train_input_2,train_target,nb_epochs=nb_epochs,lr=lr,verbose=verbose)\n",
    "    error_naive = naive_siamese.compute_errors(test_input_1,test_input_2,test_target)\n",
    "    \n",
    "    # Enhanced siamese train and test \n",
    "    enhanced_siamese = EnhancedSiamese(nb_hidden=nb_hidden) # for weight reinitialization\n",
    "    enhanced_siamese.train(train_input_1,train_input_2,train_classes_1,train_classes_2,train_target,nb_epochs=nb_epochs,lr=lr,verbose=verbose)\n",
    "    error = enhanced_siamese.compute_errors(test_input_1,test_input_2,test_target)\n",
    "    \n",
    "    # Fill results\n",
    "    errors[i] = error\n",
    "    errors_naive[i] = error_naive\n",
    "\n",
    "mean,std = errors.mean(),errors.std()\n",
    "mean_naive,std_naive = errors_naive.mean(),errors_naive.std()\n",
    "    "
   ]
  },
  {
   "cell_type": "code",
   "execution_count": 122,
   "metadata": {},
   "outputs": [
    {
     "data": {
      "image/png": "[encoded data removed]",
      "text/plain": [
       "<Figure size 432x288 with 1 Axes>"
      ]
     },
     "metadata": {
      "needs_background": "light"
     },
     "output_type": "display_data"
    }
   ],
   "source": [
    "model_names = ['Naive','Enhanced']\n",
    "x_pos = np.arange(len(model_names))\n",
    "means = [mean_naive,mean]\n",
    "stds = [std_naive,std]\n",
    "\n",
    "# Build the plot\n",
    "fig, ax = plt.subplots()\n",
    "ax.bar(x_pos, means, yerr=stds, align='center', alpha=0.5, ecolor='black', capsize=10)\n",
    "ax.set_ylabel('Error rate')\n",
    "ax.set_xticks(x_pos)\n",
    "ax.set_xticklabels(model_names)\n",
    "ax.set_title('Test error rate of the models')\n",
    "ax.yaxis.grid(True)\n",
    "\n",
    "# Save the figure and show\n",
    "plt.show()\n"
   ]
  },
  {
   "cell_type": "code",
   "execution_count": null,
   "metadata": {},
   "outputs": [],
   "source": []
  }
 ],
 "metadata": {
  "kernelspec": {
   "display_name": "Python 3",
   "language": "python",
   "name": "python3"
  },
  "language_info": {
   "codemirror_mode": {
    "name": "ipython",
    "version": 3
   },
   "file_extension": ".py",
   "mimetype": "text/x-python",
   "name": "python",
   "nbconvert_exporter": "python",
   "pygments_lexer": "ipython3",
   "version": "3.8.2"
  }
 },
 "nbformat": 4,
 "nbformat_minor": 4
}
