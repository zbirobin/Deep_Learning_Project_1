{
 "cells": [
  {
   "cell_type": "code",
   "execution_count": 1,
   "metadata": {},
   "outputs": [],
   "source": [
    "import torch\n",
    "import math\n",
    "import numpy as np\n",
    "from torch import optim\n",
    "from torch import Tensor\n",
    "from torch import nn\n",
    "from torch.nn import functional as F\n",
    "\n",
    "import dlc_practical_prologue as prologue"
   ]
  },
  {
   "cell_type": "code",
   "execution_count": 2,
   "metadata": {},
   "outputs": [
    {
     "name": "stdout",
     "output_type": "stream",
     "text": [
      "torch.Size([1000, 2, 14, 14])\n",
      "torch.Size([1000])\n",
      "torch.Size([1000, 2])\n"
     ]
    },
    {
     "data": {
      "text/plain": [
       "tensor([[9, 3],\n",
       "        [5, 4],\n",
       "        [7, 4],\n",
       "        [9, 6],\n",
       "        [8, 8]])"
      ]
     },
     "execution_count": 2,
     "metadata": {},
     "output_type": "execute_result"
    }
   ],
   "source": [
    "N = 1000 # Number of data samples in training and test set\n",
    "\n",
    "train_input, train_target, train_classes, \\\n",
    "    test_input, test_target, test_classes = prologue.generate_pair_sets(N)\n",
    "\n",
    "print(train_input.shape)\n",
    "print(train_target.shape)\n",
    "print(train_classes.shape)\n",
    "\n",
    "train_classes[:5]"
   ]
  },
  {
   "cell_type": "code",
   "execution_count": 3,
   "metadata": {},
   "outputs": [],
   "source": [
    "def normalize(input, mean, std):\n",
    "    input.sub_(mean).div_(std)\n",
    "    \n",
    "def process_data(img_input, classes, one_hot_classes=False):\n",
    "    \n",
    "    n_img = img_input.size(0) \n",
    "    img_input_1 = img_input[:,0,:,:].reshape(n_img, 1, 14, 14)\n",
    "    img_input_2 = img_input[:,1,:,:].reshape(n_img, 1, 14, 14)\n",
    "    \n",
    "    img_classes_1 = prologue.convert_to_one_hot_labels(img_input_1, classes[:,0]) if one_hot_classes else classes[:,0]\n",
    "    img_classes_2 = prologue.convert_to_one_hot_labels(img_input_2, classes[:,1]) if one_hot_classes else classes[:,1]\n",
    "    \n",
    "    img_classes_1.reshape(-1,1)\n",
    "    img_classes_2.reshape(-1,1)\n",
    "    \n",
    "    return img_input_1, img_input_2, img_classes_1, img_classes_2"
   ]
  },
  {
   "cell_type": "code",
   "execution_count": 4,
   "metadata": {},
   "outputs": [],
   "source": [
    "mean = train_input.mean(dim=(0,2,3), keepdim=True)\n",
    "std = train_input.std(dim=(0,2,3), keepdim=True)\n",
    "\n",
    "normalize(train_input, mean, std)\n",
    "normalize(test_input, mean, std)\n",
    "\n",
    "train_input_1, train_input_2, train_classes_1, train_classes_2 = process_data(train_input, train_classes)\n",
    "test_input_1, test_input_2, test_classes_1, test_classes_2 = process_data(test_input, test_classes)"
   ]
  },
  {
   "cell_type": "code",
   "execution_count": 5,
   "metadata": {},
   "outputs": [],
   "source": [
    "class DigitNet(nn.Module):\n",
    "    def __init__(self, nb_hidden):\n",
    "        super(DigitNet, self).__init__()\n",
    "        self.conv1 = nn.Conv2d(1, 32, kernel_size=3)\n",
    "        self.conv2 = nn.Conv2d(32, 64, kernel_size=3)\n",
    "        self.fc1 = nn.Linear(256, nb_hidden)\n",
    "        self.fc2 = nn.Linear(nb_hidden, 10)\n",
    "        \n",
    "    def forward(self, x):\n",
    "        x = F.relu(F.max_pool2d(self.conv1(x), kernel_size=2))\n",
    "        x = F.relu(F.max_pool2d(self.conv2(x), kernel_size=2))\n",
    "        x = F.relu(self.fc1(x.view(-1, 256)))\n",
    "        x = self.fc2(x)\n",
    "        return x"
   ]
  },
  {
   "cell_type": "code",
   "execution_count": 6,
   "metadata": {},
   "outputs": [],
   "source": [
    "class CompNet(torch.nn.Module):\n",
    "    def __init__(self):\n",
    "        super(CompNet, self).__init__()\n",
    "        self.fc1 = nn.Linear(20, 50)\n",
    "        self.fc2 = nn.Linear(50, 50)\n",
    "        self.fc3 = nn.Linear(50, 1)\n",
    "    def forward(self, x):\n",
    "        x = F.relu(self.fc1(x))\n",
    "        x = F.relu(self.fc2(x))\n",
    "        x = F.relu(self.fc3(x))\n",
    "        x = torch.sigmoid(x)\n",
    "        return x"
   ]
  },
  {
   "cell_type": "code",
   "execution_count": 7,
   "metadata": {},
   "outputs": [],
   "source": [
    "def train_model(model_digit, model_comp, \n",
    "                train_input_1, train_input_2, train_classes_1, train_classes_2, train_target, \n",
    "                criterion_digit=nn.CrossEntropyLoss(), criterion_comp=nn.BCELoss(), \n",
    "                mini_batch_size=25,nb_epochs=25, lr=1e-1):\n",
    "    \n",
    "    optimizer_digit = torch.optim.SGD(model_digit.parameters(), lr=lr)\n",
    "    optimizer_comp = torch.optim.SGD(model_comp.parameters(), lr=lr)\n",
    "    \n",
    "    for e in range(nb_epochs):\n",
    "        if e % 5 == 0:\n",
    "            print(\"Epochs {}\".format(e))\n",
    "        for b in range(0, train_input.size(0), mini_batch_size):\n",
    "            \n",
    "            # digit classification \n",
    "            output_img_1 = model_digit(train_input_1.narrow(0, b, mini_batch_size))\n",
    "            output_img_2 = model_digit(train_input_2.narrow(0, b, mini_batch_size))\n",
    "            \n",
    "            loss_img_1 = criterion_digit(output_img_1, train_classes_1.narrow(0, b, mini_batch_size))\n",
    "            loss_img_2 = criterion_digit(output_img_2, train_classes_2.narrow(0, b, mini_batch_size))\n",
    "            loss_img = loss_img_1 + loss_img_2\n",
    "            \n",
    "            output_comp = model_comp(torch.cat((output_img_1, output_img_2), 1))\n",
    "            batch_target = train_target.narrow(0, b, mini_batch_size).reshape(-1,1).float()\n",
    "            loss_comp = criterion_comp(output_comp, batch_target)\n",
    "            \n",
    "            loss = loss_img + loss_comp\n",
    "            \n",
    "            if b==0:\n",
    "                print(\"loss = {}, loss_img = {}, loss_comp = {}\".format(loss, loss_img, loss_comp))\n",
    "                \n",
    "            model_digit.zero_grad()\n",
    "            model_comp.zero_grad()\n",
    "            loss.backward()\n",
    "            optimizer_digit.step()\n",
    "            optimizer_comp.step()"
   ]
  },
  {
   "cell_type": "code",
   "execution_count": 8,
   "metadata": {},
   "outputs": [
    {
     "name": "stdout",
     "output_type": "stream",
     "text": [
      "152326\n",
      "3651\n",
      "training...\n",
      "Epochs 0\n",
      "loss = 5.326606750488281, loss_img = 4.633459568023682, loss_comp = 0.6931474208831787\n",
      "loss = 3.1775200366973877, loss_img = 2.463043212890625, loss_comp = 0.7144768238067627\n",
      "loss = 1.6411175727844238, loss_img = 0.9218927025794983, loss_comp = 0.7192248702049255\n",
      "loss = 1.3241312503814697, loss_img = 0.6552929878234863, loss_comp = 0.6688382625579834\n",
      "loss = 1.100134253501892, loss_img = 0.38247573375701904, loss_comp = 0.717658519744873\n",
      "Epochs 5\n",
      "loss = 0.9456673860549927, loss_img = 0.2893448770046234, loss_comp = 0.6563225388526917\n",
      "loss = 0.7134124636650085, loss_img = 0.1570490002632141, loss_comp = 0.5563634634017944\n",
      "loss = 0.6869116425514221, loss_img = 0.07245473563671112, loss_comp = 0.6144568920135498\n",
      "loss = 0.5992786884307861, loss_img = 0.06728833168745041, loss_comp = 0.5319903492927551\n",
      "loss = 0.5215492844581604, loss_img = 0.032031022012233734, loss_comp = 0.48951828479766846\n",
      "Epochs 10\n",
      "loss = 0.5321062803268433, loss_img = 0.03115367330610752, loss_comp = 0.5009526014328003\n",
      "loss = 0.5144988894462585, loss_img = 0.04128407686948776, loss_comp = 0.4732148051261902\n",
      "loss = 0.5114487409591675, loss_img = 0.026220915839076042, loss_comp = 0.4852278232574463\n",
      "loss = 0.536675751209259, loss_img = 0.016625959426164627, loss_comp = 0.5200498104095459\n",
      "loss = 0.5488378405570984, loss_img = 0.06375985592603683, loss_comp = 0.48507797718048096\n",
      "Epochs 15\n",
      "loss = 0.5359325408935547, loss_img = 0.05840271711349487, loss_comp = 0.4775298237800598\n",
      "loss = 0.5539413094520569, loss_img = 0.009171860292553902, loss_comp = 0.5447694659233093\n",
      "loss = 0.4854404628276825, loss_img = 0.011765832081437111, loss_comp = 0.47367462515830994\n",
      "loss = 0.4927228093147278, loss_img = 0.006290921475738287, loss_comp = 0.48643189668655396\n",
      "loss = 0.48841989040374756, loss_img = 0.01676430180668831, loss_comp = 0.47165557742118835\n",
      "Epochs 20\n",
      "loss = 0.4804401397705078, loss_img = 0.008526290766894817, loss_comp = 0.4719138443470001\n",
      "loss = 0.4773292541503906, loss_img = 0.004720381926745176, loss_comp = 0.47260886430740356\n",
      "loss = 0.4808086156845093, loss_img = 0.008411362767219543, loss_comp = 0.47239723801612854\n",
      "loss = 0.5081172585487366, loss_img = 0.03650602325797081, loss_comp = 0.47161126136779785\n",
      "loss = 0.48395606875419617, loss_img = 0.004906074143946171, loss_comp = 0.4790499806404114\n"
     ]
    }
   ],
   "source": [
    "model_digit = DigitNet(500)\n",
    "model_comp = CompNet()\n",
    "\n",
    "print(sum(p.numel() for p in model_digit.parameters() if p.requires_grad))\n",
    "print(sum(p.numel() for p in model_comp.parameters() if p.requires_grad))\n",
    "print(\"training...\")\n",
    "\n",
    "train_model(model_digit=model_digit, model_comp=model_comp,\n",
    "            train_input_1=train_input_1, train_input_2=train_input_2,\n",
    "            train_classes_1=train_classes_1, train_classes_2=train_classes_2, \n",
    "            train_target=train_target)"
   ]
  },
  {
   "cell_type": "code",
   "execution_count": 9,
   "metadata": {},
   "outputs": [],
   "source": [
    "def compute_nb_errors_siamese(model_digit, model_comp,\n",
    "                              data_input_1, data_input_2, data_target, mini_batch_size=25):\n",
    "\n",
    "    nb_data_errors = 0\n",
    "\n",
    "    for b in range(0, data_input_1.size(0), mini_batch_size):\n",
    "        output_img_1 = model_digit(data_input_1.narrow(0, b, mini_batch_size))\n",
    "        output_img_2 = model_digit(data_input_2.narrow(0, b, mini_batch_size))\n",
    "        \n",
    "        output_comp = model_comp(torch.cat((output_img_1, output_img_2), 1))\n",
    "        output_comp = torch.round(output_comp)\n",
    "    \n",
    "        for k in range(mini_batch_size):\n",
    "            if data_target[b + k] != output_comp[k]:\n",
    "                nb_data_errors = nb_data_errors + 1\n",
    "\n",
    "    return nb_data_errors"
   ]
  },
  {
   "cell_type": "code",
   "execution_count": 10,
   "metadata": {},
   "outputs": [],
   "source": [
    "def print_error_siamese(model_digit, model_comp, tr_input_1, tr_input_2, tr_target, te_input_1, te_input_2, te_target):\n",
    "    print('train_error {:.02f}% test_error {:.02f}%'.format(\n",
    "                compute_nb_errors_siamese(model_digit, model_comp, tr_input_1, tr_input_2, tr_target) / N * 100,\n",
    "                compute_nb_errors_siamese(model_digit, model_comp, te_input_1, te_input_2, te_target) / N * 100))"
   ]
  },
  {
   "cell_type": "code",
   "execution_count": 11,
   "metadata": {},
   "outputs": [
    {
     "name": "stdout",
     "output_type": "stream",
     "text": [
      "train_error 2.30% test_error 8.80%\n"
     ]
    }
   ],
   "source": [
    "print_error_siamese(model_digit, model_comp, train_input_1, train_input_2, train_target, test_input_1, test_input_2, test_target)"
   ]
  },
  {
   "cell_type": "code",
   "execution_count": null,
   "metadata": {},
   "outputs": [],
   "source": []
  }
 ],
 "metadata": {
  "kernelspec": {
   "display_name": "Python 3",
   "language": "python",
   "name": "python3"
  },
  "language_info": {
   "codemirror_mode": {
    "name": "ipython",
    "version": 3
   },
   "file_extension": ".py",
   "mimetype": "text/x-python",
   "name": "python",
   "nbconvert_exporter": "python",
   "pygments_lexer": "ipython3",
   "version": "3.8.2"
  }
 },
 "nbformat": 4,
 "nbformat_minor": 4
}
