{
 "cells": [
  {
   "cell_type": "code",
   "execution_count": 1,
   "metadata": {},
   "outputs": [],
   "source": [
    "import torch\n",
    "import math\n",
    "import numpy as np\n",
    "from torch import optim\n",
    "from torch import Tensor\n",
    "from torch import nn\n",
    "from torch.nn import functional as F\n",
    "\n",
    "import dlc_practical_prologue as prologue"
   ]
  },
  {
   "cell_type": "code",
   "execution_count": 2,
   "metadata": {},
   "outputs": [
    {
     "data": {
      "text/plain": [
       "tensor([0.])"
      ]
     },
     "execution_count": 2,
     "metadata": {},
     "output_type": "execute_result"
    }
   ],
   "source": [
    "torch.round(Tensor([0.5]))"
   ]
  },
  {
   "cell_type": "code",
   "execution_count": 3,
   "metadata": {},
   "outputs": [
    {
     "name": "stdout",
     "output_type": "stream",
     "text": [
      "torch.Size([5, 1])\n",
      "tensor([[1., 0.],\n",
      "        [0., 1.],\n",
      "        [0., 1.],\n",
      "        [1., 0.],\n",
      "        [0., 1.]])\n"
     ]
    }
   ],
   "source": [
    "\n",
    "index_t = Tensor([[0],[1],[1],[0],[1]])\n",
    "print(index_t.shape)\n",
    "def encode_targets(target):\n",
    "    n = target.size(0)\n",
    "    result = torch.zeros((n,2))\n",
    "    return result.scatter(1,target.reshape(n,1).long(),1)\n",
    "#test\n",
    "print(encode_targets(index_t))"
   ]
  },
  {
   "cell_type": "code",
   "execution_count": 4,
   "metadata": {},
   "outputs": [
    {
     "name": "stdout",
     "output_type": "stream",
     "text": [
      "torch.Size([1000, 2, 14, 14])\n",
      "torch.Size([1000, 2])\n",
      "torch.Size([1000, 2])\n"
     ]
    },
    {
     "data": {
      "text/plain": [
       "tensor([[9, 3],\n",
       "        [5, 4],\n",
       "        [7, 4],\n",
       "        [9, 6],\n",
       "        [8, 8]])"
      ]
     },
     "execution_count": 4,
     "metadata": {},
     "output_type": "execute_result"
    }
   ],
   "source": [
    "N = 1000 # Number of data samples in training and test set\n",
    "\n",
    "train_input, train_target, train_classes, \\\n",
    "    test_input, test_target, test_classes = prologue.generate_pair_sets(N)\n",
    "\n",
    "# use 1-hot encoding for targets\n",
    "train_target = encode_targets(train_target)\n",
    "test_target = encode_targets(test_target)\n",
    "\n",
    "print(train_input.shape)\n",
    "print(train_target.shape)\n",
    "print(train_classes.shape)\n",
    "\n",
    "train_classes[:5]"
   ]
  },
  {
   "cell_type": "code",
   "execution_count": 5,
   "metadata": {},
   "outputs": [],
   "source": [
    "def normalize(input, mean, std):\n",
    "    input.sub_(mean).div_(std)\n",
    "    \n",
    "def process_data(img_input, classes, one_hot_classes=False):\n",
    "    \n",
    "    n_img = img_input.size(0) \n",
    "    img_input_1 = img_input[:,0,:,:].reshape(n_img, 1, 14, 14)\n",
    "    img_input_2 = img_input[:,1,:,:].reshape(n_img, 1, 14, 14)\n",
    "    \n",
    "    img_classes_1 = prologue.convert_to_one_hot_labels(img_input_1, classes[:,0]) if one_hot_classes else classes[:,0]\n",
    "    img_classes_2 = prologue.convert_to_one_hot_labels(img_input_2, classes[:,1]) if one_hot_classes else classes[:,1]\n",
    "    \n",
    "    img_classes_1.reshape(-1,1)\n",
    "    img_classes_2.reshape(-1,1)\n",
    "    \n",
    "    return img_input_1, img_input_2, img_classes_1, img_classes_2"
   ]
  },
  {
   "cell_type": "code",
   "execution_count": 6,
   "metadata": {},
   "outputs": [],
   "source": [
    "mean = train_input.mean(dim=(0,2,3), keepdim=True)\n",
    "std = train_input.std(dim=(0,2,3), keepdim=True)\n",
    "\n",
    "normalize(train_input, mean, std)\n",
    "normalize(test_input, mean, std)\n",
    "\n",
    "train_input_1, train_input_2, train_classes_1, train_classes_2 = process_data(train_input, train_classes)\n",
    "test_input_1, test_input_2, test_classes_1, test_classes_2 = process_data(test_input, test_classes)"
   ]
  },
  {
   "cell_type": "code",
   "execution_count": 7,
   "metadata": {},
   "outputs": [],
   "source": [
    "class DigitNet(nn.Module):\n",
    "    def __init__(self, nb_hidden):\n",
    "        super(DigitNet, self).__init__()\n",
    "        self.conv1 = nn.Conv2d(1, 32, kernel_size=3)\n",
    "        self.conv2 = nn.Conv2d(32, 64, kernel_size=3)\n",
    "        self.fc1 = nn.Linear(256, nb_hidden)\n",
    "        self.fc2 = nn.Linear(nb_hidden, 10)\n",
    "        \n",
    "    def forward(self, x):\n",
    "        x = F.relu(F.max_pool2d(self.conv1(x), kernel_size=2))\n",
    "        x = F.relu(F.max_pool2d(self.conv2(x), kernel_size=2))\n",
    "        x = F.relu(self.fc1(x.view(-1, 256)))\n",
    "        x = self.fc2(x)\n",
    "        return x"
   ]
  },
  {
   "cell_type": "code",
   "execution_count": 8,
   "metadata": {},
   "outputs": [],
   "source": [
    "class CompNet(torch.nn.Module):\n",
    "    def __init__(self, digitNet):\n",
    "        super(CompNet, self).__init__()\n",
    "        self.digitNet = digitNet\n",
    "        self.fc1 = nn.Linear(20, 50)\n",
    "        self.fc2 = nn.Linear(50, 50)\n",
    "        self.fc3 = nn.Linear(50, 2)\n",
    "        \n",
    "    def forward(self, x1, x2,train=True):\n",
    "        x1 = self.digitNet.forward(x1)\n",
    "        x2 = self.digitNet.forward(x2)\n",
    "        x = torch.cat((x1, x2), 1)\n",
    "        x = F.relu(self.fc1(x))\n",
    "        x = F.dropout(x,p=0.25,training=train)\n",
    "        x = F.relu(self.fc2(x))\n",
    "        x = F.dropout(x,p=0.25,training=train)\n",
    "        x = F.relu(self.fc3(x))\n",
    "        x = torch.sigmoid(x)\n",
    "        return x"
   ]
  },
  {
   "cell_type": "code",
   "execution_count": 9,
   "metadata": {},
   "outputs": [],
   "source": [
    "def train_model(model_digit, model_comp, \n",
    "                train_input_1, train_input_2, train_classes_1, train_classes_2, train_target, \n",
    "                criterion_digit=nn.CrossEntropyLoss(), criterion_comp=nn.BCELoss(), \n",
    "                mini_batch_size=25,nb_epochs=50, lr=1e-1):\n",
    "    \n",
    "    optimizer_comp = torch.optim.SGD(model_comp.parameters(), lr=lr)\n",
    "    \n",
    "    for e in range(nb_epochs):\n",
    "        if e % 5 == 0:\n",
    "            print(\"Epochs {}\".format(e))\n",
    "        for b in range(0, train_input.size(0), mini_batch_size):\n",
    "            \n",
    "            # digit classification \n",
    "            output_img_1 = model_digit(train_input_1.narrow(0, b, mini_batch_size))\n",
    "            output_img_2 = model_digit(train_input_2.narrow(0, b, mini_batch_size))\n",
    "            \n",
    "            loss_img_1 = criterion_digit(output_img_1, train_classes_1.narrow(0, b, mini_batch_size))\n",
    "            loss_img_2 = criterion_digit(output_img_2, train_classes_2.narrow(0, b, mini_batch_size))\n",
    "            loss_img = loss_img_1 + loss_img_2\n",
    "            \n",
    "            output_comp = model_comp(train_input_1.narrow(0, b, mini_batch_size), train_input_2.narrow(0, b, mini_batch_size))\n",
    "            #batch_target = train_target.narrow(0, b, mini_batch_size).reshape(-1,1).float()\n",
    "            batch_target = train_target.narrow(0,b,mini_batch_size)\n",
    "            #print(batch_target)\n",
    "            #print(output_comp)\n",
    "            loss_comp = criterion_comp(output_comp, batch_target)\n",
    "            \n",
    "            loss = loss_img + loss_comp\n",
    "            \n",
    "            if b==0:\n",
    "                print(\"loss = {}, loss_img = {}, loss_comp = {}\".format(loss, loss_img, loss_comp))\n",
    "                \n",
    "            model_digit.zero_grad()\n",
    "            model_comp.zero_grad()\n",
    "            loss.backward()\n",
    "\n",
    "            optimizer_comp.step()"
   ]
  },
  {
   "cell_type": "code",
   "execution_count": 10,
   "metadata": {},
   "outputs": [
    {
     "name": "stdout",
     "output_type": "stream",
     "text": [
      "152326\n",
      "156028\n",
      "training...\n",
      "Epochs 0\n",
      "loss = 5.32674503326416, loss_img = 4.633459568023682, loss_comp = 0.6932855248451233\n",
      "loss = 3.4760048389434814, loss_img = 2.7833447456359863, loss_comp = 0.6926600933074951\n",
      "loss = 1.547746181488037, loss_img = 0.8306851387023926, loss_comp = 0.7170611023902893\n",
      "loss = 1.3980088233947754, loss_img = 0.6841098666191101, loss_comp = 0.7138990163803101\n",
      "loss = 1.0644233226776123, loss_img = 0.37091782689094543, loss_comp = 0.6935054659843445\n",
      "Epochs 5\n",
      "loss = 0.89493328332901, loss_img = 0.24416722357273102, loss_comp = 0.6507660746574402\n",
      "loss = 0.8571592569351196, loss_img = 0.2591194212436676, loss_comp = 0.5980398058891296\n",
      "loss = 0.741046667098999, loss_img = 0.11532957851886749, loss_comp = 0.6257171034812927\n",
      "loss = 0.6262822151184082, loss_img = 0.04434399679303169, loss_comp = 0.5819382071495056\n",
      "loss = 0.5744449496269226, loss_img = 0.030001506209373474, loss_comp = 0.5444434285163879\n",
      "Epochs 10\n",
      "loss = 0.6293673515319824, loss_img = 0.024625498801469803, loss_comp = 0.6047418713569641\n",
      "loss = 0.4873806834220886, loss_img = 0.024474410340189934, loss_comp = 0.46290627121925354\n",
      "loss = 0.5019057989120483, loss_img = 0.015639016404747963, loss_comp = 0.4862667918205261\n",
      "loss = 0.49681535363197327, loss_img = 0.021161258220672607, loss_comp = 0.47565409541130066\n",
      "loss = 0.4584542512893677, loss_img = 0.013664896599948406, loss_comp = 0.4447893500328064\n",
      "Epochs 15\n",
      "loss = 0.4137725830078125, loss_img = 0.012315832078456879, loss_comp = 0.401456743478775\n",
      "loss = 0.4333142340183258, loss_img = 0.03574060648679733, loss_comp = 0.3975736200809479\n",
      "loss = 0.42448702454566956, loss_img = 0.01085741352289915, loss_comp = 0.4136296212673187\n",
      "loss = 0.4019382894039154, loss_img = 0.005554965231567621, loss_comp = 0.3963833153247833\n",
      "loss = 0.3892446756362915, loss_img = 0.01168396882712841, loss_comp = 0.37756070494651794\n",
      "Epochs 20\n",
      "loss = 0.391205757856369, loss_img = 0.013634616509079933, loss_comp = 0.37757113575935364\n",
      "loss = 5.369561195373535, loss_img = 4.68246603012085, loss_comp = 0.6870952844619751\n",
      "loss = 2.9785797595977783, loss_img = 2.329807996749878, loss_comp = 0.6487718224525452\n",
      "loss = 1.9125394821166992, loss_img = 1.2531719207763672, loss_comp = 0.6593676209449768\n",
      "loss = 1.4892504215240479, loss_img = 0.8529087901115417, loss_comp = 0.6363415718078613\n",
      "Epochs 25\n",
      "loss = 1.0695607662200928, loss_img = 0.45879167318344116, loss_comp = 0.6107690930366516\n",
      "loss = 1.1526639461517334, loss_img = 0.44159626960754395, loss_comp = 0.7110676765441895\n",
      "loss = 0.7945888042449951, loss_img = 0.13384583592414856, loss_comp = 0.6607429385185242\n",
      "loss = 0.704849898815155, loss_img = 0.0893339067697525, loss_comp = 0.6155160069465637\n",
      "loss = 0.5714322328567505, loss_img = 0.05032473802566528, loss_comp = 0.5211074948310852\n",
      "Epochs 30\n",
      "loss = 2.455449342727661, loss_img = 1.757134199142456, loss_comp = 0.6983151435852051\n",
      "loss = 1.3798657655715942, loss_img = 0.8060985803604126, loss_comp = 0.5737671852111816\n",
      "loss = 1.3187198638916016, loss_img = 0.6284254789352417, loss_comp = 0.6902944445610046\n",
      "loss = 1.153487205505371, loss_img = 0.5117527842521667, loss_comp = 0.6417343616485596\n",
      "loss = 0.9035582542419434, loss_img = 0.3538866639137268, loss_comp = 0.5496715903282166\n",
      "Epochs 35\n",
      "loss = 0.8647762537002563, loss_img = 0.27683204412460327, loss_comp = 0.5879442095756531\n",
      "loss = 0.7003544569015503, loss_img = 0.2134295403957367, loss_comp = 0.486924946308136\n",
      "loss = 0.8716598749160767, loss_img = 0.3818201422691345, loss_comp = 0.48983970284461975\n",
      "loss = 0.4954566955566406, loss_img = 0.04913463816046715, loss_comp = 0.4463220536708832\n",
      "loss = 0.4600847661495209, loss_img = 0.030024804174900055, loss_comp = 0.4300599694252014\n",
      "Epochs 40\n",
      "loss = 0.5010836720466614, loss_img = 0.05514122545719147, loss_comp = 0.4459424614906311\n",
      "loss = 0.4414934813976288, loss_img = 0.008282113820314407, loss_comp = 0.4332113564014435\n",
      "loss = 0.377996563911438, loss_img = 0.008938034065067768, loss_comp = 0.3690585196018219\n",
      "loss = 0.43901199102401733, loss_img = 0.01065310649573803, loss_comp = 0.42835888266563416\n",
      "loss = 0.38078439235687256, loss_img = 0.005036364309489727, loss_comp = 0.37574803829193115\n",
      "Epochs 45\n",
      "loss = 0.3636533319950104, loss_img = 0.005862414836883545, loss_comp = 0.35779091715812683\n",
      "loss = 0.35737401247024536, loss_img = 0.004097777884453535, loss_comp = 0.35327622294425964\n",
      "loss = 0.41896703839302063, loss_img = 0.004274980630725622, loss_comp = 0.4146920442581177\n",
      "loss = 0.9408329725265503, loss_img = 0.3970954418182373, loss_comp = 0.543737530708313\n",
      "loss = 0.6355074048042297, loss_img = 0.21417656540870667, loss_comp = 0.42133083939552307\n"
     ]
    }
   ],
   "source": [
    "model_digit = DigitNet(500)\n",
    "model_comp = CompNet(model_digit)\n",
    "\n",
    "print(sum(p.numel() for p in model_digit.parameters() if p.requires_grad))\n",
    "print(sum(p.numel() for p in model_comp.parameters() if p.requires_grad))\n",
    "print(\"training...\")\n",
    "\n",
    "train_model(model_digit=model_digit, model_comp=model_comp,\n",
    "            train_input_1=train_input_1, train_input_2=train_input_2,\n",
    "            train_classes_1=train_classes_1, train_classes_2=train_classes_2, \n",
    "            train_target=train_target)"
   ]
  },
  {
   "cell_type": "code",
   "execution_count": 11,
   "metadata": {},
   "outputs": [],
   "source": [
    "def compute_nb_errors_siamese(model_digit, model_comp,\n",
    "                              data_input_1, data_input_2, data_target, mini_batch_size=25):\n",
    "\n",
    "    nb_data_errors = 0\n",
    "\n",
    "    for b in range(0, data_input_1.size(0), mini_batch_size):\n",
    "        \n",
    "        output_comp = model_comp(data_input_1.narrow(0, b, mini_batch_size), data_input_2.narrow(0, b, mini_batch_size),train=False)\n",
    "       \n",
    "        output_comp = torch.round(output_comp)\n",
    "       \n",
    "       \n",
    "        for k in range(mini_batch_size):\n",
    "            #print(torch.eq(data_target[b + k], output_comp[k]))\n",
    "            if torch.equal(torch.eq(data_target[b + k], output_comp[k]),torch.tensor([True,True])) == False:\n",
    "                nb_data_errors = nb_data_errors + 1\n",
    "\n",
    "    return nb_data_errors"
   ]
  },
  {
   "cell_type": "code",
   "execution_count": 12,
   "metadata": {},
   "outputs": [],
   "source": [
    "def print_error_siamese(model_digit, model_comp, tr_input_1, tr_input_2, tr_target, te_input_1, te_input_2, te_target):\n",
    "    print('train_error {:.02f}% test_error {:.02f}%'.format(\n",
    "                compute_nb_errors_siamese(model_digit, model_comp, tr_input_1, tr_input_2, tr_target) / N * 100,\n",
    "                compute_nb_errors_siamese(model_digit, model_comp, te_input_1, te_input_2, te_target) / N * 100))"
   ]
  },
  {
   "cell_type": "code",
   "execution_count": 13,
   "metadata": {},
   "outputs": [
    {
     "name": "stdout",
     "output_type": "stream",
     "text": [
      "train_error 3.20% test_error 9.20%\n"
     ]
    }
   ],
   "source": [
    "print_error_siamese(model_digit, model_comp, train_input_1, train_input_2, train_target, test_input_1, test_input_2, test_target)"
   ]
  },
  {
   "cell_type": "code",
   "execution_count": null,
   "metadata": {},
   "outputs": [],
   "source": []
  }
 ],
 "metadata": {
  "kernelspec": {
   "display_name": "Python 3",
   "language": "python",
   "name": "python3"
  },
  "language_info": {
   "codemirror_mode": {
    "name": "ipython",
    "version": 3
   },
   "file_extension": ".py",
   "mimetype": "text/x-python",
   "name": "python",
   "nbconvert_exporter": "python",
   "pygments_lexer": "ipython3",
   "version": "3.8.2"
  }
 },
 "nbformat": 4,
 "nbformat_minor": 4
}
